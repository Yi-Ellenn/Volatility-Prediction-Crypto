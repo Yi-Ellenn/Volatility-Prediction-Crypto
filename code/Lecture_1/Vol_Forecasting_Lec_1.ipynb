{
 "cells": [
  {
   "cell_type": "markdown",
   "metadata": {},
   "source": [
    "### B-S方程定价"
   ]
  },
  {
   "cell_type": "code",
   "execution_count": 1,
   "metadata": {},
   "outputs": [],
   "source": [
    "import math\n",
    "from enum import Enum\n",
    "class PayoffType(str, Enum):\n",
    "    Call = 'Call'\n",
    "    Put = 'Put'\n",
    "def cnorm(x):\n",
    "    return (1.0 + math.erf(x / math.sqrt(2.0))) / 2.0\n",
    "def bsPrice(S, r, vol, payoffType, K, T):\n",
    "    fwd = S * math.exp(r * T)\n",
    "    stdev = vol * math.sqrt(T)\n",
    "    d1 = math.log(fwd / K) / stdev + stdev / 2\n",
    "    d2 = d1 - stdev\n",
    "    if payoffType == PayoffType.Call:\n",
    "        return math.exp(-r * T) * (fwd * cnorm(d1) - cnorm(d2) * K)\n",
    "    elif payoffType == PayoffType.Put:\n",
    "        return math.exp(-r * T) * (K * cnorm(-d2) - cnorm(-d1) * fwd)\n",
    "    else:\n",
    "        raise Exception(\"not supported payoff type\", payoffType)\n",
    "    "
   ]
  },
  {
   "cell_type": "code",
   "execution_count": 2,
   "metadata": {},
   "outputs": [
    {
     "name": "stdout",
     "output_type": "stream",
     "text": [
      "blackPrice:  99.65683502132815\n"
     ]
    }
   ],
   "source": [
    "# test ---\n",
    "S, r, vol, K, T = 100, 0.01, 0.2, 105, 1.0\n",
    "print(\"blackPrice: \", bsPrice(S, r, vol, PayoffType.Call, T, K))"
   ]
  },
  {
   "cell_type": "markdown",
   "metadata": {},
   "source": [
    "### 区间缩放算法"
   ]
  },
  {
   "cell_type": "code",
   "execution_count": 5,
   "metadata": {},
   "outputs": [],
   "source": [
    "def rootBacketing(f, a, b, maxIter, factor):\n",
    "    for k in range(maxIter):\n",
    "        if f(a) * f(b) < 0:\n",
    "            return (a, b)\n",
    "        if abs(f(a)) < abs(f(b)):\n",
    "            a += factor * (a - b) # if f(a) is closer to 0, change a\n",
    "        else:\n",
    "            b += factor * (b -a) # if f(b) is closer to 0, change b\n",
    "    return (a, b)"
   ]
  },
  {
   "cell_type": "code",
   "execution_count": 6,
   "metadata": {},
   "outputs": [
    {
     "name": "stdout",
     "output_type": "stream",
     "text": [
      "-0.4080000000000008 5.78\n"
     ]
    }
   ],
   "source": [
    "import math\n",
    "foo = lambda x: math.exp(x) - 5\n",
    "a = 3.4\n",
    "b = 5.78\n",
    "(a_, b_) = rootBacketing(foo, a, b, 50, 1.6)\n",
    "print(a_, b_)"
   ]
  },
  {
   "cell_type": "code",
   "execution_count": 10,
   "metadata": {},
   "outputs": [
    {
     "data": {
      "text/plain": [
       "-1381.8278230282199"
      ]
     },
     "execution_count": 10,
     "metadata": {},
     "output_type": "execute_result"
    }
   ],
   "source": [
    "foo(a_)*foo(b_)"
   ]
  },
  {
   "cell_type": "markdown",
   "metadata": {},
   "source": [
    "### 寻根算法"
   ]
  },
  {
   "cell_type": "markdown",
   "metadata": {},
   "source": [
    "#### 二分法"
   ]
  },
  {
   "cell_type": "code",
   "execution_count": 11,
   "metadata": {},
   "outputs": [
    {
     "name": "stderr",
     "output_type": "stream",
     "text": [
      "<>:2: SyntaxWarning: assertion is always true, perhaps remove parentheses?\n",
      "<>:2: SyntaxWarning: assertion is always true, perhaps remove parentheses?\n",
      "<>:2: SyntaxWarning: assertion is always true, perhaps remove parentheses?\n",
      "/var/folders/rc/d92q64ds74d0jg428sqj64lc0000gn/T/ipykernel_96924/905892170.py:2: SyntaxWarning: assertion is always true, perhaps remove parentheses?\n",
      "  assert (a < b, f(a)*f(b) < 0)\n"
     ]
    }
   ],
   "source": [
    "def bisect(f, a, b, tol):\n",
    "    assert (a < b, f(a)*f(b) < 0)\n",
    "    c = (a+b) / 2\n",
    "    while (b-a)/2 > tol:\n",
    "        print(f\"({a}, {b})\")\n",
    "        c = (a+b)/2\n",
    "        if abs(f(c)) < tol:\n",
    "            return c\n",
    "        else:\n",
    "            if f(a) * f(c) < 0:\n",
    "                b = c\n",
    "            else:\n",
    "                a = c\n",
    "    return c"
   ]
  },
  {
   "cell_type": "code",
   "execution_count": 12,
   "metadata": {},
   "outputs": [
    {
     "name": "stdout",
     "output_type": "stream",
     "text": [
      "(0.0001, 0.5)\n",
      "(0.0001, 0.25005)\n",
      "(0.0001, 0.125075)\n",
      "(0.06258749999999999, 0.125075)\n",
      "(0.09383124999999999, 0.125075)\n",
      "(0.09383124999999999, 0.10945312499999998)\n",
      "(0.09383124999999999, 0.10164218749999998)\n",
      "(0.09773671874999998, 0.10164218749999998)\n",
      "(0.09968945312499998, 0.10164218749999998)\n",
      "(0.09968945312499998, 0.10066582031249999)\n",
      "(0.09968945312499998, 0.10017763671874999)\n",
      "(0.09993354492187498, 0.10017763671874999)\n",
      "(0.09993354492187498, 0.10005559082031248)\n",
      "(0.09999456787109373, 0.10005559082031248)\n",
      "(0.09999456787109373, 0.10002507934570311)\n",
      "(0.09999456787109373, 0.10000982360839841)\n",
      "(0.09999456787109373, 0.10000219573974607)\n",
      "(0.0999983818054199, 0.10000219573974607)\n",
      "implied vol =  0.10000028877258299\n"
     ]
    }
   ],
   "source": [
    "price = bsPrice(S=100, r=0.02, vol=0.1, T=1.0, K=90, payoffType=PayoffType.Call)\n",
    "f = lambda vol: (bsPrice(100, 0.02, vol, PayoffType.Call, 90, 1.0) - price)\n",
    "a, b = 0.0001, 0.5\n",
    "iv = bisect(f, a, b, 1e-6)\n",
    "print(\"implied vol = \", iv)"
   ]
  },
  {
   "cell_type": "markdown",
   "metadata": {},
   "source": [
    "#### 切分法"
   ]
  },
  {
   "cell_type": "code",
   "execution_count": 13,
   "metadata": {},
   "outputs": [],
   "source": [
    "def secant(f, a, b, tol, maxIter):\n",
    "    nIter = 0\n",
    "    c = (a*f(b)-b*f(a))/(f(b)-f(a))\n",
    "    while abs(a - b) > tol and nIter <= maxIter:\n",
    "        print(f\"({a}, {b})\")\n",
    "        c = (a*f(b)-b*f(a))/(f(b)-f(a))\n",
    "        if abs(f(c)) < tol:\n",
    "            return c\n",
    "        else:\n",
    "            a=b \n",
    "            b=c\n",
    "        nIter = nIter+1\n",
    "    return c"
   ]
  },
  {
   "cell_type": "code",
   "execution_count": 14,
   "metadata": {},
   "outputs": [
    {
     "name": "stdout",
     "output_type": "stream",
     "text": [
      "(0.0001, 0.5)\n",
      "(0.5, 0.017869297108060234)\n",
      "(0.017869297108060234, 0.035006972052249376)\n",
      "(0.035006972052249376, 58.158878921372114)\n",
      "(58.158878921372114, 0.3453511995504188)\n",
      "(0.3453511995504188, -4.956236282273593)\n",
      "(-4.956236282273593, -0.021209391295258204)\n",
      "(-0.021209391295258204, 0.6740298315446954)\n",
      "(0.6740298315446954, 0.2523821318154071)\n",
      "(0.2523821318154071, 0.13094505724390695)\n",
      "(0.13094505724390695, 0.10933139199626062)\n",
      "(0.10933139199626062, 0.10146153130939682)\n",
      "(0.10146153130939682, 0.10009392312534648)\n",
      "(0.10009392312534648, 0.10000105609873301)\n",
      "implied vol =  0.10000000077724093\n"
     ]
    }
   ],
   "source": [
    "price = bsPrice(S=100, r=0.02, vol=0.1, T=1.0, K=90, payoffType=PayoffType.Call)\n",
    "f = lambda vol: (bsPrice(100, 0.02, vol, PayoffType.Call, 90, 1.0) - price)\n",
    "a, b = 0.0001, 0.5\n",
    "iv = secant(f, a, b, 1e-6, 100)\n",
    "print(\"implied vol = \", iv)"
   ]
  },
  {
   "cell_type": "markdown",
   "metadata": {},
   "source": [
    "#### 虚位法"
   ]
  },
  {
   "cell_type": "code",
   "execution_count": 15,
   "metadata": {},
   "outputs": [],
   "source": [
    "def falsi(f, a, b, tol):\n",
    "    assert (a<b and f(a)*f(b)<0)\n",
    "    c = (a*f(b)-b*f(a))/(f(b)-f(a))\n",
    "    while abs(a - b) > tol:\n",
    "        print(f\"({a}, {b})\")\n",
    "        c = (a*f(b)-b*f(a))/(f(b)-f(a))\n",
    "        if abs(f(c)) < tol:\n",
    "            return c;\n",
    "        else:\n",
    "            if f(a)*f(c)<0:\n",
    "                b=c \n",
    "            else:\n",
    "                a=c\n",
    "    return c"
   ]
  },
  {
   "cell_type": "code",
   "execution_count": 16,
   "metadata": {},
   "outputs": [
    {
     "name": "stdout",
     "output_type": "stream",
     "text": [
      "(0.0001, 0.5)\n",
      "(0.017869297108060234, 0.5)\n",
      "(0.035006972052249376, 0.5)\n",
      "(0.05153077746362442, 0.5)\n",
      "(0.06708256944568117, 0.5)\n",
      "(0.08007982262509539, 0.5)\n",
      "(0.08913380620003186, 0.5)\n",
      "(0.09448567499465944, 0.5)\n",
      "(0.09731677479452577, 0.5)\n",
      "(0.09872271630291884, 0.5)\n",
      "(0.0993985262315561, 0.5)\n",
      "(0.09971823002749905, 0.5)\n",
      "(0.09986832309001992, 0.5)\n",
      "(0.09993853528505835, 0.5)\n",
      "(0.09997132463615187, 0.5)\n",
      "(0.09998662532839857, 0.5)\n",
      "(0.09999376255805052, 0.5)\n",
      "(0.09999709125124431, 0.5)\n",
      "(0.09999864357791168, 0.5)\n",
      "(0.09999936747405776, 0.5)\n",
      "(0.09999970504251011, 0.5)\n",
      "(0.099999862456714, 0.5)\n",
      "(0.09999993586149365, 0.5)\n",
      "implied vol =  0.09999997009126486\n"
     ]
    }
   ],
   "source": [
    "price = bsPrice(S=100, r=0.02, vol=0.1, T=1.0, K=90, payoffType=PayoffType.Call)\n",
    "f = lambda vol: (bsPrice(100, 0.02, vol, PayoffType.Call, 90, 1.0) - price)\n",
    "a, b = 0.0001, 0.5\n",
    "iv = falsi(f, a, b, 1e-6)\n",
    "print(\"implied vol = \", iv)"
   ]
  },
  {
   "cell_type": "markdown",
   "metadata": {},
   "source": [
    "#### 布伦特法"
   ]
  },
  {
   "cell_type": "code",
   "execution_count": 17,
   "metadata": {},
   "outputs": [
    {
     "name": "stdout",
     "output_type": "stream",
     "text": [
      "implied vol =  0.09999999999997611\n"
     ]
    }
   ],
   "source": [
    "from scipy import optimize \n",
    "price = bsPrice(S=100, r=0.02, vol=0.1, T=1.0, K=90, payoffType=PayoffType.Call)\n",
    "f = lambda vol: (bsPrice(100, 0.02, vol, PayoffType.Call, 90, 1.0) - price)\n",
    "a, b = 0.0001, 0.5\n",
    "iv = optimize.brentq(f, a, b)\n",
    "print(\"implied vol = \", iv)"
   ]
  }
 ],
 "metadata": {
  "kernelspec": {
   "display_name": "product_zhpu",
   "language": "python",
   "name": "python3"
  },
  "language_info": {
   "codemirror_mode": {
    "name": "ipython",
    "version": 3
   },
   "file_extension": ".py",
   "mimetype": "text/x-python",
   "name": "python",
   "nbconvert_exporter": "python",
   "pygments_lexer": "ipython3",
   "version": "3.7.1"
  },
  "orig_nbformat": 4
 },
 "nbformat": 4,
 "nbformat_minor": 2
}
